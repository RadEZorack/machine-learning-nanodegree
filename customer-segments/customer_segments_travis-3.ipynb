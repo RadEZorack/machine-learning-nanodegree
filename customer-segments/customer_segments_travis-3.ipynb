{
 "cells": [
  {
   "cell_type": "markdown",
   "metadata": {},
   "source": [
    "# Creating Customer Segments"
   ]
  },
  {
   "cell_type": "markdown",
   "metadata": {},
   "source": [
    "In this project you, will analyze a dataset containing annual spending amounts for internal structure, to understand the variation in the different types of customers that a wholesale distributor interacts with.\n",
    "\n",
    "Instructions:\n",
    "\n",
    "- Run each code block below by pressing **Shift+Enter**, making sure to implement any steps marked with a TODO.\n",
    "- Answer each question in the space provided by editing the blocks labeled \"Answer:\".\n",
    "- When you are done, submit the completed notebook (.ipynb) with all code blocks executed, as well as a .pdf version (File > Download as)."
   ]
  },
  {
   "cell_type": "code",
   "execution_count": 1,
   "metadata": {
    "collapsed": false
   },
   "outputs": [
    {
     "name": "stdout",
     "output_type": "stream",
     "text": [
      "Dataset has 440 rows, 6 columns\n",
      "   Fresh  Milk  Grocery  Frozen  Detergents_Paper  Delicatessen\n",
      "0  12669  9656     7561     214              2674          1338\n",
      "1   7057  9810     9568    1762              3293          1776\n",
      "2   6353  8808     7684    2405              3516          7844\n",
      "3  13265  1196     4221    6404               507          1788\n",
      "4  22615  5410     7198    3915              1777          5185\n"
     ]
    }
   ],
   "source": [
    "# Import libraries: NumPy, pandas, matplotlib\n",
    "import numpy as np\n",
    "import pandas as pd\n",
    "import matplotlib.pyplot as plt\n",
    "\n",
    "# Tell iPython to include plots inline in the notebook\n",
    "%matplotlib inline\n",
    "\n",
    "# Read dataset\n",
    "data = pd.read_csv(\"wholesale-customers.csv\")\n",
    "print \"Dataset has {} rows, {} columns\".format(*data.shape)\n",
    "print data.head()  # print the first 5 rows"
   ]
  },
  {
   "cell_type": "markdown",
   "metadata": {},
   "source": [
    "##Feature Transformation"
   ]
  },
  {
   "cell_type": "markdown",
   "metadata": {},
   "source": [
    "**1)** In this section you will be using PCA and ICA to start to understand the structure of the data. Before doing any computations, what do you think will show up in your computations? List one or two ideas for what might show up as the first PCA dimensions, or type of vectors will show up as ICA dimensions."
   ]
  },
  {
   "cell_type": "markdown",
   "metadata": {},
   "source": [
    "Answer: PCA will show different correlations between items bought. The first dimension may say shoppers buy mainly one item and nothing else. And the second dimension might show buying groups of items and nothing else.\n",
    "\n",
    "ICA will show trade offs between shoppers buying item 1 and not item 2, such that if a shopper buys item 2, they wont get item 1."
   ]
  },
  {
   "cell_type": "markdown",
   "metadata": {},
   "source": [
    "###PCA"
   ]
  },
  {
   "cell_type": "code",
   "execution_count": 2,
   "metadata": {
    "collapsed": false
   },
   "outputs": [
    {
     "name": "stdout",
     "output_type": "stream",
     "text": [
      "[[-0.97653685 -0.12118407 -0.06154039 -0.15236462  0.00705417 -0.06810471]\n",
      " [-0.11061386  0.51580216  0.76460638 -0.01872345  0.36535076  0.05707921]\n",
      " [-0.17855726  0.50988675 -0.27578088  0.71420037 -0.20440987  0.28321747]\n",
      " [-0.04187648 -0.64564047  0.37546049  0.64629232  0.14938013 -0.02039579]\n",
      " [ 0.015986    0.20323566 -0.1602915   0.22018612  0.20793016 -0.91707659]\n",
      " [-0.01576316  0.03349187  0.41093894 -0.01328898 -0.87128428 -0.26541687]]\n",
      "[ 0.45961362  0.40517227  0.07003008  0.04402344  0.01502212  0.00613848]\n"
     ]
    }
   ],
   "source": [
    "# TODO: Apply PCA with the same number of dimensions as variables in the dataset\n",
    "from sklearn.decomposition import PCA\n",
    "\n",
    "pca = PCA(n_components = data.shape[1])\n",
    "pca.fit(data)\n",
    "\n",
    "# Print the components and the amount of variance in the data contained in each dimension\n",
    "print pca.components_\n",
    "print pca.explained_variance_ratio_"
   ]
  },
  {
   "cell_type": "markdown",
   "metadata": {},
   "source": [
    "**2)** How quickly does the variance drop off by dimension? If you were to use PCA on this dataset, how many dimensions would you choose for your analysis? Why?"
   ]
  },
  {
   "cell_type": "markdown",
   "metadata": {
    "collapsed": true
   },
   "source": [
    "Answer: After the first two groups, there is a very large drop. After that, there is a more steady drop.\n",
    "\n",
    "I would choose 4. The first two groups are large enough to automatically include, and an additional two groups will capture the rest. 4 dimensions captures about 97% variance which seems high enough since we don't want to increase the dimensions too much, due to the curse of dimensionality."
   ]
  },
  {
   "cell_type": "markdown",
   "metadata": {},
   "source": [
    "**3)** What do the dimensions seem to represent? How can you use this information?"
   ]
  },
  {
   "cell_type": "markdown",
   "metadata": {
    "collapsed": true
   },
   "source": [
    "Answer: The dimensions seem to represent different correlations between items bought.\n",
    "\n",
    "The first one [-0.97653685 -0.12118407 -0.06154039 -0.15236462  0.00705417 -0.06810471] is someone who buys a lot of \"Fresh\". We could use this information to create an incentive to buy items not commonly purchased. Such as, buy \"Fresh\" and recieve a discount on \"Detergents_Paper\". We could also increase the price of the \"Fresh\" since it's high in demand.\n",
    "\n",
    "The second one [-0.11061386  0.51580216  0.76460638 -0.01872345  0.36535076  0.05707921] is someone who buys a lot of \"Milk\" and \"Grocery\" and a bit of \"Detergents_Paper\". This tells us we should buy these three items together, but more \"Grocery\" than \"Detergents_Paper\".\n",
    "\n",
    "The third one [-0.17855726  0.50988675 -0.27578088  0.71420037 -0.20440987  0.28321747] buys \"milk\" and \"frozen\". Same advice as above."
   ]
  },
  {
   "cell_type": "markdown",
   "metadata": {},
   "source": [
    "###ICA"
   ]
  },
  {
   "cell_type": "code",
   "execution_count": 6,
   "metadata": {
    "collapsed": false
   },
   "outputs": [
    {
     "name": "stdout",
     "output_type": "stream",
     "text": [
      "[[ 0.03349093 -0.17010275 -1.11680419  0.08908118  1.15131334  0.27470505]\n",
      " [-0.04334463 -0.01612397 -0.05567124 -0.03176554  0.0208026   0.86734557]\n",
      " [ 0.02354237 -0.13809602  0.59968365  0.02472737 -0.03645177 -0.07055503]\n",
      " [ 0.09702365  0.0103289  -0.07180229 -0.67818102  0.02261901  0.28534266]\n",
      " [-0.01725562 -0.72298675  0.53934345  0.02210125 -0.13576917  0.2903145 ]\n",
      " [ 0.44590403 -0.06317793 -0.05851318 -0.04118495  0.0847063  -0.04985377]]\n",
      "1.63897190893\n",
      "0.871187785792\n",
      "0.621420485666\n",
      "0.746014336474\n",
      "0.957655052952\n",
      "0.466478729129\n"
     ]
    },
    {
     "data": {
      "text/plain": [
       "<matplotlib.axes._subplots.AxesSubplot at 0x1f24ef60>"
      ]
     },
     "execution_count": 6,
     "metadata": {},
     "output_type": "execute_result"
    },
    {
     "data": {
      "image/png": "[encoded data removed]",
      "text/plain": [
       "<matplotlib.figure.Figure at 0xc1e3240>"
      ]
     },
     "metadata": {},
     "output_type": "display_data"
    }
   ],
   "source": [
    "# TODO: Fit an ICA model to the data\n",
    "# Note: Adjust the data to have center at the origin first!\n",
    "from sklearn.decomposition import FastICA\n",
    "from sklearn.preprocessing import MinMaxScaler\n",
    "\n",
    "ica = FastICA(n_components = data.shape[1], random_state = 1)\n",
    "ica_data = MinMaxScaler().fit_transform(data.astype(float))\n",
    "ica.fit(ica_data)\n",
    "\n",
    "# Print the independent components\n",
    "print ica.components_\n",
    "\n",
    "#Extra anaylsis of magnitude of vectors\n",
    "for vec in ica.components_:\n",
    "    print np.linalg.norm(vec)\n",
    "    \n",
    "pd.DataFrame(ica.components_, columns = data.columns).plot(kind = 'bar', figsize = (12, 6))"
   ]
  },
  {
   "cell_type": "markdown",
   "metadata": {},
   "source": [
    "**4)** For each vector in the ICA decomposition, write a sentence or two explaining what sort of object or property it corresponds to. What could these components be used for?"
   ]
  },
  {
   "cell_type": "markdown",
   "metadata": {
    "collapsed": true
   },
   "source": [
    "Answer:\n",
    "\n",
    "[ 0.03349093 -0.17010275 -1.11680419  0.08908118  1.15131334  0.27470505] : 1.64\n",
    "\n",
    "Someone who buys a lot of \"Detergents_Paper\" but at the cost of not buying \"grocery\". This could be a dollar store vs a grocery store.\n",
    "\n",
    "------\n",
    "\n",
    "[-0.04334463 -0.01612397 -0.05567124 -0.03176554  0.0208026   0.86734557] : 0.87\n",
    "\n",
    "Someone who buys a lot of \"Delicatessen\". This could be a Deli.\n",
    "\n",
    "-------\n",
    "\n",
    "[ 0.02354237 -0.13809602  0.59968365  0.02472737 -0.03645177 -0.07055503] : 0.62\n",
    "\n",
    "Someone who buys a lot \"grocery\". This could be a grocery store.\n",
    "\n",
    "-------\n",
    "\n",
    "[ 0.09702365  0.0103289  -0.07180229 -0.67818102  0.02261901  0.28534266] : 0.75\n",
    "\n",
    "Someone who buys \"Delicatessen\" at the cost of a lot of \"frozen\". This could be a fancy bakery vs. a grocery store.\n",
    "\n",
    "-------\n",
    "\n",
    "[-0.01725562 -0.72298675  0.53934345  0.02210125 -0.13576917  0.2903145 ] : 0.96\n",
    " \n",
    "Someone who buys \"grocery\" and \"delicatessen\" at the cost of \"milk\". This could be a deli vs a a convience store.\n",
    "\n",
    "-------\n",
    "\n",
    "[ 0.44590403 -0.06317793 -0.05851318 -0.04118495  0.0847063  -0.04985377] : 0.47\n",
    "\n",
    "Someone who buys a lot of \"fresh\". This could be a farmer's market.\n",
    " \n",
    "-------\n",
    "\n",
    "These components could be used to say how much of each item to stock on the shelves. For example in the first case, we see that Detergents_Paper is inversly proportional to Grocery. Therefore, if it costs less to stock Detergents_Paper (since they last longer), it may make sense to convert some of the Grocery section into Detregents_Paper."
   ]
  },
  {
   "cell_type": "markdown",
   "metadata": {},
   "source": [
    "##Clustering\n",
    "\n",
    "In this section you will choose either K Means clustering or Gaussian Mixed Models clustering, which implements expectation-maximization. Then you will sample elements from the clusters to understand their significance."
   ]
  },
  {
   "cell_type": "markdown",
   "metadata": {},
   "source": [
    "###Choose a Cluster Type\n",
    "\n",
    "**5)** What are the advantages of using K Means clustering or Gaussian Mixture Models?"
   ]
  },
  {
   "cell_type": "markdown",
   "metadata": {},
   "source": [
    "Answer:\n",
    "\n",
    "KMeans\n",
    "--\n",
    "\n",
    "-Easy to implement and understand.\n",
    "\n",
    "-Runs fast and doesnt cost much.\n",
    "\n",
    "-Scales well.\n",
    "\n",
    "Gaussian Mixture Models\n",
    "---\n",
    "\n",
    "-Nature prefers gaussian distributions.\n",
    "\n",
    "-Takes into account variance as well as means.\n",
    "\n",
    "-Creates/Draws ellipsoids instead of polygons\n",
    "\n",
    "-\"Agnostic:\tas this algorithm maximizes only the likelihood, it will not bias the means towards zero, or bias the cluster sizes to have specific structures that might or might not apply.\" Scikit Learn, 2.1 Gaussian mixture models: http://scikit-learn.org/stable/modules/mixture.html\n",
    "\n",
    "Choice\n",
    "---\n",
    "I would choose to use the GMM for mainly because this is what Nature prefers and having ellipsoids will better describe the kind of groups appearing. I will probably choose 4 clusters since that was my predication in question 3."
   ]
  },
  {
   "cell_type": "markdown",
   "metadata": {},
   "source": [
    "**6)** Below is some starter code to help you visualize some cluster data. The visualization is based on [this demo](http://scikit-learn.org/stable/auto_examples/cluster/plot_kmeans_digits.html) from the sklearn documentation."
   ]
  },
  {
   "cell_type": "code",
   "execution_count": 4,
   "metadata": {
    "collapsed": true
   },
   "outputs": [],
   "source": [
    "# Import clustering modules\n",
    "from sklearn.cluster import KMeans\n",
    "from sklearn.mixture import GMM"
   ]
  },
  {
   "cell_type": "code",
   "execution_count": 5,
   "metadata": {
    "collapsed": false
   },
   "outputs": [
    {
     "name": "stdout",
     "output_type": "stream",
     "text": [
      "[[  -650.02212207   1585.51909007]\n",
      " [  4426.80497937   4042.45150884]\n",
      " [  4841.9987068    2578.762176  ]\n",
      " [  -990.34643689  -6279.80599663]\n",
      " [-10657.99873116  -2159.72581518]\n",
      " [  2765.96159271   -959.87072713]\n",
      " [   715.55089221  -2013.00226567]\n",
      " [  4474.58366697   1429.49697204]\n",
      " [  6712.09539718  -2205.90915598]\n",
      " [  4823.63435407  13480.55920489]]\n"
     ]
    }
   ],
   "source": [
    "# TODO: First we reduce the data to two dimensions using PCA to capture variation\n",
    "reduced_data = PCA(n_components = 2).fit_transform(data)\n",
    "print reduced_data[:10]  # print upto 10 elements"
   ]
  },
  {
   "cell_type": "code",
   "execution_count": 7,
   "metadata": {
    "collapsed": false
   },
   "outputs": [
    {
     "name": "stdout",
     "output_type": "stream",
     "text": [
      "GMM(covariance_type='diag', init_params='wmc', min_covar=0.001,\n",
      "  n_components=3, n_init=1, n_iter=100, params='wmc', random_state=None,\n",
      "  thresh=None, tol=0.001)\n",
      "GMM(covariance_type='diag', init_params='wmc', min_covar=0.001,\n",
      "  n_components=4, n_init=1, n_iter=100, params='wmc', random_state=None,\n",
      "  thresh=None, tol=0.001)\n"
     ]
    }
   ],
   "source": [
    "# TODO: Implement your clustering algorithm here, and fit it to the reduced data for visualization\n",
    "# The visualizer below assumes your clustering object is named 'clusters'\n",
    "\n",
    "#clusters = KMeans(n_clusters=4)\n",
    "clusters3 = GMM(n_components=3)\n",
    "clusters3.fit(reduced_data)\n",
    "\n",
    "print clusters3\n",
    "\n",
    "clusters4 = GMM(n_components=4)\n",
    "clusters4.fit(reduced_data)\n",
    "\n",
    "print clusters4"
   ]
  },
  {
   "cell_type": "code",
   "execution_count": 10,
   "metadata": {
    "collapsed": false
   },
   "outputs": [],
   "source": [
    "# Plot the decision boundary by building a mesh grid to populate a graph.\n",
    "x_min, x_max = reduced_data[:, 0].min() - 1, reduced_data[:, 0].max() + 1\n",
    "y_min, y_max = reduced_data[:, 1].min() - 1, reduced_data[:, 1].max() + 1\n",
    "hx = (x_max-x_min)/1000.\n",
    "hy = (y_max-y_min)/1000.\n",
    "xx, yy = np.meshgrid(np.arange(x_min, x_max, hx), np.arange(y_min, y_max, hy))\n",
    "\n",
    "# Obtain labels for each point in mesh. Use last trained model.\n",
    "Z3 = clusters3.predict(np.c_[xx.ravel(), yy.ravel()])\n",
    "Z4 = clusters4.predict(np.c_[xx.ravel(), yy.ravel()])"
   ]
  },
  {
   "cell_type": "code",
   "execution_count": 21,
   "metadata": {
    "collapsed": false
   },
   "outputs": [
    {
     "name": "stdout",
     "output_type": "stream",
     "text": [
      "[[   269.05318679  -6506.88683442]\n",
      " [-17879.18623839  10122.79246625]\n",
      " [  6987.95079141   4249.82914044]]\n",
      "[[  7181.91424431   5413.62958366]\n",
      " [  2344.28951027  -6730.90263321]\n",
      " [-15238.03405438  -3342.05080154]\n",
      " [ -9421.64737924  34508.91379789]]\n"
     ]
    }
   ],
   "source": [
    "# TODO: Find the centroids for KMeans or the cluster means for GMM \n",
    "\n",
    "#centroids = clusters.cluster_centers_\n",
    "centroids3 = clusters3.means_\n",
    "print centroids3\n",
    "\n",
    "centroids4 = clusters4.means_\n",
    "print centroids4"
   ]
  },
  {
   "cell_type": "code",
   "execution_count": 22,
   "metadata": {
    "collapsed": false
   },
   "outputs": [
    {
     "data": {
      "image/png": "[encoded data removed]",
      "text/plain": [
       "<matplotlib.figure.Figure at 0x1f425a20>"
      ]
     },
     "metadata": {},
     "output_type": "display_data"
    },
    {
     "data": {
      "image/png": "[encoded data removed]",
      "text/plain": [
       "<matplotlib.figure.Figure at 0x241c8198>"
      ]
     },
     "metadata": {},
     "output_type": "display_data"
    }
   ],
   "source": [
    "# Put the result into a color plot\n",
    "# 3 centriods\n",
    "Z3 = Z3.reshape(xx.shape)\n",
    "plt.figure(1)\n",
    "plt.clf()\n",
    "plt.imshow(Z3, interpolation='nearest',\n",
    "           extent=(xx.min(), xx.max(), yy.min(), yy.max()),\n",
    "           cmap=plt.cm.Paired,\n",
    "           aspect='auto', origin='lower')\n",
    "\n",
    "plt.plot(reduced_data[:, 0], reduced_data[:, 1], 'k.', markersize=2)\n",
    "plt.scatter(centroids3[:, 0], centroids3[:, 1],\n",
    "            marker='x', s=169, linewidths=3,\n",
    "            color='w', zorder=10)\n",
    "plt.title('Clustering on the wholesale grocery dataset (PCA-reduced data)\\n'\n",
    "          '3 Centroids are marked with white cross')\n",
    "plt.xlim(x_min, x_max)\n",
    "plt.ylim(y_min, y_max)\n",
    "plt.xticks(())\n",
    "plt.yticks(())\n",
    "plt.show()\n",
    "\n",
    "# 4 centriods\n",
    "Z4 = Z4.reshape(xx.shape)\n",
    "plt.figure(1)\n",
    "plt.clf()\n",
    "plt.imshow(Z4, interpolation='nearest',\n",
    "           extent=(xx.min(), xx.max(), yy.min(), yy.max()),\n",
    "           cmap=plt.cm.Paired,\n",
    "           aspect='auto', origin='lower')\n",
    "\n",
    "plt.plot(reduced_data[:, 0], reduced_data[:, 1], 'k.', markersize=2)\n",
    "plt.scatter(centroids4[:, 0], centroids4[:, 1],\n",
    "            marker='x', s=169, linewidths=3,\n",
    "            color='w', zorder=10)\n",
    "plt.title('Clustering on the wholesale grocery dataset (PCA-reduced data)\\n'\n",
    "          '4 Centroids are marked with white cross')\n",
    "plt.xlim(x_min, x_max)\n",
    "plt.ylim(y_min, y_max)\n",
    "plt.xticks(())\n",
    "plt.yticks(())\n",
    "plt.show()"
   ]
  },
  {
   "cell_type": "markdown",
   "metadata": {},
   "source": [
    "**7)** What are the central objects in each cluster? Describe them as customers."
   ]
  },
  {
   "cell_type": "markdown",
   "metadata": {
    "collapsed": true
   },
   "source": [
    "Answer:\n",
    "**4 centroids, last graph** I choose 4 instead of 3 because there seemed to be an additional cluster at the bottom.\n",
    "\n",
    "In this case the brown centroid [2344.28951027  -6730.90263321] would probably the group of shoppers who buy a lot of \"fresh\" (first group of question 3 PCA).\n",
    "\n",
    "The blue centroid [7181.91424431   5413.62958366] would be the group that buys \"Milk\" and \"Grocery\" (second group).\n",
    "\n",
    "The orange centroid [-15238.03405438  -3342.05080154] would be \"milk\" and \"frozen\" (third group).\n",
    "\n",
    "The red centroid [-9421.64737924  34508.91379789] would be everyone else."
   ]
  },
  {
   "cell_type": "markdown",
   "metadata": {},
   "source": [
    "###Conclusions\n",
    "\n",
    "** 8)** Which of these techniques did you feel gave you the most insight into the data?"
   ]
  },
  {
   "cell_type": "markdown",
   "metadata": {
    "collapsed": true
   },
   "source": [
    "Answer: I prefered the PCA analysis, because of it's simplicity but extensive results. It quickly shows that there are two large groups which should be focused on, and describes their buying habits. It also shows that the everything else counts for 15% of the business and shouldn't be ignored either.\n",
    "\n",
    "Whereas, I feel the plots lose too much information on what is actually being bought (2 dimensions is too low)"
   ]
  },
  {
   "cell_type": "markdown",
   "metadata": {
    "collapsed": true
   },
   "source": [
    "**9)** How would you use that technique to help the company design new experiments?"
   ]
  },
  {
   "cell_type": "markdown",
   "metadata": {},
   "source": [
    "Answer: We could use the PCA results to create an A/B testing. Since the second dimension of PCA shows that people buy \"Milk\" and \"Grocery\" together, we could try for one week being normal, then the next week having coupons that have if you buy \"Grocery\" receive a discount on \"Milk\". See which week creates more income."
   ]
  },
  {
   "cell_type": "markdown",
   "metadata": {},
   "source": [
    "**10)** How would you use that data to help you predict future customer needs?"
   ]
  },
  {
   "cell_type": "markdown",
   "metadata": {},
   "source": [
    "Answer: We could start labeling incoming data by asking people at the checkouts what they are buying for. ex. business vs home. This would then change the problem into a supervised one. (Note: this is what the wholesale food store close to me does)\n",
    "\n",
    "Additional statistics could be added, like time of day purchases occur.\n",
    "\n",
    "If we better knew who is making the purchase, the wholesale food store could better target advertisment (ex. is there enough home interest to have door to door flyers).\n",
    "\n",
    "If we knew what time of day the purchases where being made at, we could have fresher food delivered at that time."
   ]
  },
  {
   "cell_type": "code",
   "execution_count": null,
   "metadata": {
    "collapsed": true
   },
   "outputs": [],
   "source": []
  }
 ],
 "metadata": {
  "kernelspec": {
   "display_name": "Python 2",
   "language": "python",
   "name": "python2"
  },
  "language_info": {
   "codemirror_mode": {
    "name": "ipython",
    "version": 2
   },
   "file_extension": ".py",
   "mimetype": "text/x-python",
   "name": "python",
   "nbconvert_exporter": "python",
   "pygments_lexer": "ipython2",
   "version": "2.7.10"
  }
 },
 "nbformat": 4,
 "nbformat_minor": 0
}
